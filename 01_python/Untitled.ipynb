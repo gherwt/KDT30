{
 "cells": [
  {
   "cell_type": "code",
   "execution_count": 11,
   "id": "01fc798b-05e5-4858-8011-bb524cdfd3c6",
   "metadata": {},
   "outputs": [],
   "source": [
    "class Circle():\n",
    "    def __init__(self, r, x=0, y=0):\n",
    "        self.r = r\n",
    "        self.x = x\n",
    "        self.y = y"
   ]
  },
  {
   "cell_type": "code",
   "execution_count": 12,
   "id": "b5980cdd-ce26-4b29-a15e-1664701c27ec",
   "metadata": {},
   "outputs": [
    {
     "ename": "TypeError",
     "evalue": "Circle.__init__() takes from 2 to 4 positional arguments but 5 were given",
     "output_type": "error",
     "traceback": [
      "\u001b[1;31m---------------------------------------------------------------------------\u001b[0m",
      "\u001b[1;31mTypeError\u001b[0m                                 Traceback (most recent call last)",
      "Cell \u001b[1;32mIn[12], line 4\u001b[0m\n\u001b[0;32m      2\u001b[0m c2 \u001b[38;5;241m=\u001b[39m Circle(\u001b[38;5;241m1\u001b[39m, \u001b[38;5;241m2\u001b[39m)\n\u001b[0;32m      3\u001b[0m c3 \u001b[38;5;241m=\u001b[39m Circle(\u001b[38;5;241m1\u001b[39m, \u001b[38;5;241m2\u001b[39m, \u001b[38;5;241m3\u001b[39m)\n\u001b[1;32m----> 4\u001b[0m c4 \u001b[38;5;241m=\u001b[39m \u001b[43mCircle\u001b[49m\u001b[43m(\u001b[49m\u001b[38;5;241;43m1\u001b[39;49m\u001b[43m,\u001b[49m\u001b[43m \u001b[49m\u001b[38;5;241;43m2\u001b[39;49m\u001b[43m,\u001b[49m\u001b[43m \u001b[49m\u001b[38;5;241;43m3\u001b[39;49m\u001b[43m,\u001b[49m\u001b[43m \u001b[49m\u001b[38;5;241;43m4\u001b[39;49m\u001b[43m)\u001b[49m\n\u001b[0;32m      5\u001b[0m c5 \u001b[38;5;241m=\u001b[39m Circle(\u001b[38;5;241m1\u001b[39m, y\u001b[38;5;241m=\u001b[39m\u001b[38;5;241m2\u001b[39m, x\u001b[38;5;241m=\u001b[39m\u001b[38;5;241m3\u001b[39m)\n",
      "\u001b[1;31mTypeError\u001b[0m: Circle.__init__() takes from 2 to 4 positional arguments but 5 were given"
     ]
    }
   ],
   "source": [
    "c1 = Circle(1)\n",
    "c2 = Circle(1, 2)\n",
    "c3 = Circle(1, 2, 3)\n",
    "c4 = Circle(1, 2, 3, 4)\n",
    "c5 = Circle(1, y=2, x=3)"
   ]
  },
  {
   "cell_type": "code",
   "execution_count": 7,
   "id": "9da294f9-75cc-4cc0-b021-cea1507487b8",
   "metadata": {},
   "outputs": [],
   "source": [
    "def solution(my_string, overwrite_string, s):\n",
    "    my = list(my_string)\n",
    "    over = list(overwrite_string)\n",
    "    answer = []\n",
    "\n",
    "    for i in range(0, len(my_string)):\n",
    "        \n",
    "        if i < s :\n",
    "            answer.append(my[i])\n",
    "            \n",
    "        elif i < s+len(overwrite_string):\n",
    "            answer.append(over[i-s])\n",
    "        \n",
    "        else: \n",
    "            answer.append(my[i])\n",
    "      \n",
    "    return ''.join(answer)"
   ]
  },
  {
   "cell_type": "code",
   "execution_count": 58,
   "id": "4e016ba8-a6dd-4a3a-aea6-94c73b2781b7",
   "metadata": {},
   "outputs": [
    {
     "name": "stdout",
     "output_type": "stream",
     "text": [
      "!@#$%^&*('\"<>?:;\n"
     ]
    }
   ],
   "source": [
    "print('!@#$%^&*(\\'\\\"<>?:;')"
   ]
  },
  {
   "cell_type": "code",
   "execution_count": 19,
   "id": "c156160d-655f-4be3-bb8e-28c890bd4e6b",
   "metadata": {},
   "outputs": [],
   "source": [
    "def solution(num1, num2):\n",
    "    answer = 0\n",
    "    if num1 == num2:\n",
    "        answer == 1\n",
    "    else:\n",
    "        answer == -1\n",
    "    return answer"
   ]
  },
  {
   "cell_type": "code",
   "execution_count": 73,
   "id": "d05b0a63-642c-4d09-91a5-bf4f501e6e38",
   "metadata": {},
   "outputs": [
    {
     "data": {
      "text/plain": [
       "'HelloWorld'"
      ]
     },
     "execution_count": 73,
     "metadata": {},
     "output_type": "execute_result"
    }
   ],
   "source": [
    "solution(\"He11oWor1d\", \"lloWorl\",2) # 10글자, 7글자, 2개\n"
   ]
  },
  {
   "cell_type": "code",
   "execution_count": 6,
   "id": "f1fb5924-fa5d-4fe2-bda7-9c0abe1794d6",
   "metadata": {},
   "outputs": [
    {
     "name": "stdout",
     "output_type": "stream",
     "text": [
      "[3, 4, 5]\n"
     ]
    }
   ],
   "source": [
    "print(list(range(3, 6)))"
   ]
  },
  {
   "cell_type": "code",
   "execution_count": 12,
   "id": "0ca3b8cb-22f2-4f52-958b-8ca48bb6bb69",
   "metadata": {},
   "outputs": [
    {
     "name": "stdout",
     "output_type": "stream",
     "text": [
      "[4, 5]\n",
      "[1, 2, 3, 4, 5]\n",
      "[2, 3, 4, 5]\n",
      "[-1, 0, 1, 2, 3]\n"
     ]
    }
   ],
   "source": [
    "def solution(num, total): \n",
    "    a = total//num \n",
    "\n",
    "    \n",
    "    if total%2:\n",
    "        if (num-1)//2 == 1:\n",
    "            \n",
    "        answer = list(range(a-((num-1)//2), a+1+((num-1)//2)))\n",
    "    \n",
    "    else:\n",
    "\n",
    "        b = total//(2*a+1)\n",
    "        \n",
    "        answer =  list(range(a-b+1, a+b+1))\n",
    "\n",
    "\n",
    "    return answer\n",
    "\n",
    "print(solution(3, 12)) # [3, 4, 5]\n",
    "print(solution(5, 15)) # [1, 2, 3, 4, 5]\n",
    "print(solution(4, 14)) # [2, 3, 4, 5]\n",
    "print(solution(5, 5)) # [-1, 0, 1, 2, 3]"
   ]
  },
  {
   "cell_type": "code",
   "execution_count": 9,
   "id": "9ba201cb-1798-4517-806b-fbd1a678cf42",
   "metadata": {},
   "outputs": [
    {
     "data": {
      "text/plain": [
       "1"
      ]
     },
     "execution_count": 9,
     "metadata": {},
     "output_type": "execute_result"
    }
   ],
   "source": [
    "num = 3\n",
    "(num-1)//2"
   ]
  },
  {
   "cell_type": "code",
   "execution_count": 18,
   "id": "8b351424-5d91-4d2e-a958-5b0fd30b0797",
   "metadata": {},
   "outputs": [
    {
     "data": {
      "text/plain": [
       "0"
      ]
     },
     "execution_count": 18,
     "metadata": {},
     "output_type": "execute_result"
    }
   ],
   "source": [
    "solution(3,3)"
   ]
  },
  {
   "cell_type": "code",
   "execution_count": 71,
   "id": "34223140-acba-45c9-a4c9-255518b53d27",
   "metadata": {},
   "outputs": [],
   "source": [
    "def solution(numer1, denom1, numer2, denom2):\n",
    "    a = denom1*denom2\n",
    "    b = (numer1*denom2) + (numer2*denom1)\n",
    "    for i in range(min(a, b), 0, -1):\n",
    "        if a % i == 0 and b % i == 0:\n",
    "            gcd = i\n",
    "            break\n",
    "    return (a//gcd, b//gcd)\n"
   ]
  },
  {
   "cell_type": "code",
   "execution_count": 67,
   "id": "f13c611b-ab22-4829-b37e-74b432f13a19",
   "metadata": {},
   "outputs": [],
   "source": [
    "def solution(numer1, denom1, numer2, denom2):\n",
    "    # 분모끼리 곱하기 -> 분모 denom1*denom2\n",
    "    # 서로 분자 * 분모 -> 분자 numer1*denom2 + numer2*denom1\n",
    "    a = denom1 * denom2\n",
    "    b = numer1 * denom2 + numer2 * denom1\n",
    "\n",
    "    # 최대 공약수(GCD) 계산\n",
    "    for i in range(min(a, b), 0, -1):\n",
    "        if a % i == 0 and b % i == 0:\n",
    "            gcd = i\n",
    "            break\n",
    "\n",
    "    # 기약 분수로 변환하여 반환\n",
    "    return (a // gcd, b // gcd)"
   ]
  },
  {
   "cell_type": "code",
   "execution_count": 72,
   "id": "0d62285f-c90f-429f-b37d-dab41a4f619a",
   "metadata": {},
   "outputs": [
    {
     "data": {
      "text/plain": [
       "(2, 3)"
      ]
     },
     "execution_count": 72,
     "metadata": {},
     "output_type": "execute_result"
    }
   ],
   "source": [
    "solution(1,2,3,3)"
   ]
  },
  {
   "cell_type": "code",
   "execution_count": 97,
   "id": "3fc566a5-958d-405d-985d-b5bd3662305b",
   "metadata": {},
   "outputs": [],
   "source": [
    "def solution(numbers):\n",
    "    answer = []\n",
    "    for num in numbers:\n",
    "        answer.append(num*2)\n",
    "    return answer\n",
    "    \n"
   ]
  },
  {
   "cell_type": "code",
   "execution_count": 98,
   "id": "dd20e2f2-f72b-4e4b-83a4-2bef58fa4a63",
   "metadata": {},
   "outputs": [
    {
     "data": {
      "text/plain": [
       "[2, 4, 6, 8, 10]"
      ]
     },
     "execution_count": 98,
     "metadata": {},
     "output_type": "execute_result"
    }
   ],
   "source": [
    "solution([1, 2, 3, 4, 5])"
   ]
  }
 ],
 "metadata": {
  "kernelspec": {
   "display_name": "Python 3 (ipykernel)",
   "language": "python",
   "name": "python3"
  },
  "language_info": {
   "codemirror_mode": {
    "name": "ipython",
    "version": 3
   },
   "file_extension": ".py",
   "mimetype": "text/x-python",
   "name": "python",
   "nbconvert_exporter": "python",
   "pygments_lexer": "ipython3",
   "version": "3.10.10"
  }
 },
 "nbformat": 4,
 "nbformat_minor": 5
}
