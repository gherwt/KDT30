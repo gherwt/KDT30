{
 "cells": [
  {
   "cell_type": "markdown",
   "metadata": {
    "id": "mawznY9l-tXv"
   },
   "source": [
    "## 갯수 구하기\n",
    "\n",
    "> 주어진 리스트의 요소는 학생 이름으로 구성되어 있다. 학생들의 수를 출력하시오.\n",
    "\n",
    "---\n",
    "\n",
    "```\n",
    "[출력 예시]\n",
    "3\n",
    "```"
   ]
  },
  {
   "cell_type": "code",
   "execution_count": null,
   "metadata": {
    "ExecuteTime": {
     "end_time": "2020-07-20T07:21:43.556594Z",
     "start_time": "2020-07-20T07:21:43.553351Z"
    },
    "id": "Mf5Zu04f-tXv",
    "outputId": "d13ca86f-acf5-4abd-a255-e382d5cd66b6"
   },
   "outputs": [],
   "source": [
    "students = ['김철수', '이영희', '조민지', '조민지', '이영희', '김철수']\n",
    "# 중복없이 여기에 제시된 개수 세는 문제.\n",
    "# 틀렸다.\n",
    "# 아래에 코드를 작성하세요.\n",
    "total = 0\n",
    "\n",
    "for student in students:\n",
    "    student = students\n",
    "    total += 1\n",
    "\n",
    "print(total)"
   ]
  },
  {
   "cell_type": "code",
   "execution_count": null,
   "metadata": {},
   "outputs": [],
   "source": [
    "uniq_name = []\n",
    "\n",
    "for student in students:\n",
    "  if student not in uniq_name:\n",
    "      uniq_name.append(student)\n",
    "\n",
    "print(uniq_name, len(uniq_name))"
   ]
  },
  {
   "cell_type": "code",
   "execution_count": null,
   "metadata": {},
   "outputs": [],
   "source": [
    "# set 함수 중복없이 세주는 문제.\n",
    "len(set(students))"
   ]
  },
  {
   "cell_type": "markdown",
   "metadata": {
    "id": "rCjG6tqu-tXx"
   },
   "source": [
    "## 득표수 구하기\n",
    "\n",
    "> 주어진 리스트는 반장 선거 투표 결과이다. 이영희의 총 득표수를 출력하시오.\n",
    "\n",
    "---\n",
    "\n",
    "```\n",
    "[출력 예시]\n",
    "4\n",
    "```"
   ]
  },
  {
   "cell_type": "code",
   "execution_count": null,
   "metadata": {
    "id": "gWw-l9m--tXy",
    "outputId": "f9073c85-17f8-4ef6-9066-2773b41972a8"
   },
   "outputs": [],
   "source": [
    "students = ['이영희', '김철수', '이영희', '조민지', '김철수', '조민지', '이영희', '이영희']\n",
    "\n",
    "# 아래에 코드를 작성하시오.\n",
    "\n",
    "total = 0\n",
    "\n",
    "for student in students:\n",
    "    if student == '이영희':\n",
    "        total += 1\n",
    "\n",
    "print(total)"
   ]
  },
  {
   "cell_type": "code",
   "execution_count": null,
   "metadata": {},
   "outputs": [],
   "source": [
    "# # 모든 학생들의 득표 수를 구하는 문제는 이거랑 다르다.\n",
    "# # dict로 셀 수 있다. -> 생각해보기.\n",
    "\n",
    "# for student, count in students:\n",
    "    "
   ]
  },
  {
   "cell_type": "markdown",
   "metadata": {
    "id": "602xpRW_-tXz"
   },
   "source": [
    "## 최댓값 구하기\n",
    "\n",
    "> 주어진 리스트의 요소 중에서 최댓값을 출력하시오.\n",
    "\n",
    "---\n",
    "```\n",
    "[출력 예시]\n",
    "22\n",
    "```"
   ]
  },
  {
   "cell_type": "code",
   "execution_count": null,
   "metadata": {
    "id": "EC6dpWRD-tX0",
    "outputId": "464b2054-153b-4892-db71-6fee4eb23cc8"
   },
   "outputs": [],
   "source": [
    "numbers = [0, 7, 10, 22, 4, 3, 17]\n",
    "\n",
    "# 아래에 코드를 작성하시오.\n",
    "\n",
    "# 조건식에 최소값을 구할 수 있는 대소 비교를 해야함.\n",
    "#일단 최솟값을 설정하고\n",
    "\n",
    "max_val = 0\n",
    "\n",
    "for num in numbers:\n",
    "    if num > max_val:\n",
    "        num = max_val\n",
    "        \n",
    "print(max_val)"
   ]
  },
  {
   "cell_type": "code",
   "execution_count": null,
   "metadata": {},
   "outputs": [],
   "source": [
    "#수정본 1\n",
    "\n",
    "max_val = -1000000000000000000000000\n",
    "\n",
    "for num in numbers:\n",
    "    if num > max_val:\n",
    "        max_val = num\n",
    "\n",
    "print(max_val)"
   ]
  },
  {
   "cell_type": "code",
   "execution_count": null,
   "metadata": {},
   "outputs": [],
   "source": [
    "#수정본2\n",
    "\n",
    "max_val = numbers[0]\n",
    "\n",
    "for num in numbers:\n",
    "    if num > max_val:\n",
    "        max_val = num\n",
    "\n",
    "print(max_val)"
   ]
  },
  {
   "cell_type": "markdown",
   "metadata": {
    "id": "7BNase6o-tX0"
   },
   "source": [
    "## 최솟값 구하기\n",
    "\n",
    "> 주어진 리스트의 요소 중에서 최솟값을 출력하시오.\n",
    "---\n",
    "```\n",
    "[출력 예시]\n",
    "3\n",
    "```"
   ]
  },
  {
   "cell_type": "code",
   "execution_count": null,
   "metadata": {
    "id": "tbyMg7CD-tX0",
    "outputId": "d9dcc77d-edb8-4521-80b7-2a807edd5463"
   },
   "outputs": [],
   "source": [
    "numbers = [7, 10, 22, 4, 3, 17]\n",
    "\n",
    "# 아래에 코드를 작성하시오.\n",
    "# min 변수명을 사용하면 min함수를 사용할 수 없기 때문에 min_Val을 사용해야한다.\n",
    "min_val = 0\n",
    "\n",
    "for num in numbers:\n",
    "    if min_val > num:\n",
    "        min_val = num\n",
    "\n",
    "print(min_val)"
   ]
  },
  {
   "cell_type": "code",
   "execution_count": null,
   "metadata": {},
   "outputs": [],
   "source": [
    "min_val = numbers[0]\n",
    "\n",
    "for num in numbers:\n",
    "    if num < min_val:\n",
    "        min_val = num\n",
    "\n",
    "print(min_val)"
   ]
  },
  {
   "cell_type": "code",
   "execution_count": null,
   "metadata": {},
   "outputs": [],
   "source": [
    "# numbers 에서 최대 최소 동시에 구하기\n",
    "# 1회 for 문으로 한 번에 min, max 구하기\n",
    "\n",
    "# for"
   ]
  },
  {
   "cell_type": "markdown",
   "metadata": {
    "id": "3UMhzTbP-tX0"
   },
   "source": [
    "## 최댓값과 등장 횟수 구하기\n",
    "\n",
    "> 주어진 리스트의 요소 중에서 최댓값과 등장 횟수를 출력하시오.\n",
    "\n",
    "---\n",
    "\n",
    "```\n",
    "[출력 예시]\n",
    "22 3\n",
    "```"
   ]
  },
  {
   "cell_type": "code",
   "execution_count": null,
   "metadata": {},
   "outputs": [],
   "source": [
    "numbers = [7, 10, 22, 7, 22, 22]"
   ]
  },
  {
   "cell_type": "code",
   "execution_count": 6,
   "metadata": {
    "ExecuteTime": {
     "end_time": "2020-07-20T07:14:08.319167Z",
     "start_time": "2020-07-20T07:14:08.316606Z"
    },
    "id": "jHjLTcTS-tX1",
    "outputId": "959258b8-0c6e-4258-c3ba-07a6f624954e"
   },
   "outputs": [
    {
     "name": "stdout",
     "output_type": "stream",
     "text": [
      "22 3\n"
     ]
    }
   ],
   "source": [
    "# 시간복잡도(time - complexation)\n",
    "# 2n\n",
    "max_num = numbers[0]\n",
    "\n",
    "# 아래에 코드를 작성하시오.\n",
    "for num in numbers:\n",
    "    if num > max_num:\n",
    "        max_num = num\n",
    "\n",
    "# numbers.count(max_num)\n",
    "max_count = 0\n",
    "for num in numbers:\n",
    "    if num == max_num:\n",
    "        max_count += 1\n",
    "\n",
    "print(max_num , max_count)"
   ]
  },
  {
   "cell_type": "code",
   "execution_count": 7,
   "metadata": {},
   "outputs": [
    {
     "name": "stdout",
     "output_type": "stream",
     "text": [
      "22 3\n"
     ]
    }
   ],
   "source": [
    "# 시간복잡도 n번 순회 -> 알고리즘의 효율화\n",
    "numbers = [7, 10, 22, 7, 22, 22]\n",
    "\n",
    "max_num = numbers[0]\n",
    "\n",
    "max_count = 0\n",
    "\n",
    "for num in numbers:\n",
    "    # 최대값보다 크다면 = > 새로운 최대값을 발견 \n",
    "    if num > max_num:\n",
    "        # 최대값과 같다면,\n",
    "        max_num = num\n",
    "        # 최대값을 갱신 + 카운터 리셋이 필요하다.\n",
    "        max_count = 1\n",
    "    elif num == max_num:\n",
    "        # 카운트 += 1\n",
    "        max_count += 1\n",
    "    # 둘다 아니라면\n",
    "\n",
    "print(max_num, max_count) "
   ]
  },
  {
   "cell_type": "code",
   "execution_count": null,
   "metadata": {},
   "outputs": [],
   "source": []
  },
  {
   "cell_type": "markdown",
   "metadata": {
    "id": "yl-AuKGz-tX1"
   },
   "source": [
    "## 5의 개수 구하기\n",
    "\n",
    "> 주어진 리스트의 요소 중에서 5의 개수를 출력하시오.\n",
    "---\n",
    "```\n",
    "[출력 예시]\n",
    "3\n",
    "```"
   ]
  },
  {
   "cell_type": "code",
   "execution_count": 9,
   "metadata": {
    "id": "E5XxJeog-tX2",
    "outputId": "5dc7ba02-7302-4fa4-d7ae-3133fdc41ade"
   },
   "outputs": [
    {
     "name": "stdout",
     "output_type": "stream",
     "text": [
      "3\n"
     ]
    }
   ],
   "source": [
    "numbers = [7, 17, 10, 5, 4, 3, 17, 5, 2, 5]\n",
    "\n",
    "# 아래에 코드를 작성하시오.\n",
    "\n",
    "count = 0\n",
    "for num in numbers:\n",
    "    if num == 5:\n",
    "        count += 1\n",
    "\n",
    "print(count)"
   ]
  },
  {
   "cell_type": "code",
   "execution_count": 11,
   "metadata": {},
   "outputs": [
    {
     "data": {
      "text/plain": [
       "3"
      ]
     },
     "execution_count": 11,
     "metadata": {},
     "output_type": "execute_result"
    }
   ],
   "source": [
    "numbers.count(5)"
   ]
  },
  {
   "cell_type": "markdown",
   "metadata": {
    "id": "nTnijNla-tX2"
   },
   "source": [
    "## 'a'가 싫어\n",
    "\n",
    "\n",
    "> 입력으로 짧은 영단어 word가 주어질 때, 해당 단어에서 'a'를 모두 제거한 결과를 출력하시오.\n",
    "\n",
    "---\n",
    "```\n",
    "[입력 예시]\n",
    "apple\n",
    "\n",
    "[출력 예시]\n",
    "pple\n",
    "```"
   ]
  },
  {
   "cell_type": "code",
   "execution_count": 16,
   "metadata": {
    "id": "1DHHcBfV-tX2",
    "outputId": "e740fcde-167c-4f84-aeae-98175ee130bb"
   },
   "outputs": [
    {
     "name": "stdin",
     "output_type": "stream",
     "text": [
      " asdgaga\n"
     ]
    },
    {
     "name": "stdout",
     "output_type": "stream",
     "text": [
      "sdgg\n"
     ]
    }
   ],
   "source": [
    "word = input()\n",
    "\n",
    "result = word\n",
    "\n",
    "for char in word:\n",
    "    if char in 'a':\n",
    "        result = result.replace(char,'')\n",
    "\n",
    "print(result)"
   ]
  },
  {
   "cell_type": "code",
   "execution_count": null,
   "metadata": {},
   "outputs": [],
   "source": [
    "word = input()"
   ]
  },
  {
   "cell_type": "code",
   "execution_count": 19,
   "metadata": {},
   "outputs": [
    {
     "name": "stdin",
     "output_type": "stream",
     "text": [
      " baaaqhqhqhqwzza\n"
     ]
    },
    {
     "data": {
      "text/plain": [
       "'bqhqhqhqwzz'"
      ]
     },
     "execution_count": 19,
     "metadata": {},
     "output_type": "execute_result"
    }
   ],
   "source": [
    "new_word = ''\n",
    "\n",
    "for char in word:\n",
    "    if char == 'a':\n",
    "        continue\n",
    "    else:\n",
    "        new_word += char\n",
    "\n",
    "new_word"
   ]
  },
  {
   "cell_type": "code",
   "execution_count": 20,
   "metadata": {},
   "outputs": [
    {
     "data": {
      "text/plain": [
       "'bqhqhqhqwzz'"
      ]
     },
     "execution_count": 20,
     "metadata": {},
     "output_type": "execute_result"
    }
   ],
   "source": [
    "new_word = ''\n",
    "\n",
    "for char in word:\n",
    "    if char != 'a':\n",
    "        new_word += char\n",
    "\n",
    "new_word"
   ]
  },
  {
   "cell_type": "markdown",
   "metadata": {
    "id": "pFrdnc31-tX2"
   },
   "source": [
    "## 단어 뒤집기\n",
    "\n",
    "> 입력으로 짧은 영어단어 word가 주어질 때, 해당 단어를 역순으로 뒤집은 결과를 출력하시오.\n",
    "\n",
    "---\n",
    "```\n",
    "[입력 예시]\n",
    "apple\n",
    "\n",
    "[출력 예시]\n",
    "elppa\n",
    "```"
   ]
  },
  {
   "cell_type": "code",
   "execution_count": 22,
   "metadata": {
    "id": "E9zRZx__-tX3",
    "outputId": "81ead295-2c18-4a79-c6fa-c5022f0827d8"
   },
   "outputs": [
    {
     "name": "stdin",
     "output_type": "stream",
     "text": [
      " apple\n"
     ]
    },
    {
     "name": "stdout",
     "output_type": "stream",
     "text": [
      "e\n",
      "l\n",
      "p\n",
      "p\n",
      "a\n"
     ]
    }
   ],
   "source": [
    "# 아래에 코드를 작성하시오.\n",
    "# word[::-1]\n",
    "word = input()\n",
    "\n",
    "for idx in range(len(word)):\n",
    "    print(word[-(idx+1)])"
   ]
  },
  {
   "cell_type": "code",
   "execution_count": 23,
   "metadata": {},
   "outputs": [
    {
     "name": "stdout",
     "output_type": "stream",
     "text": [
      "elppa\n"
     ]
    }
   ],
   "source": [
    "new_word = ''\n",
    "\n",
    "for char in word:\n",
    "    # new_word += char # 그대로\n",
    "    new_word = char + new_word # 문자열/리스트는 연결하는 순서가 중요하다.\n",
    "    \n",
    "print(new_word)"
   ]
  }
 ],
 "metadata": {
  "colab": {
   "provenance": []
  },
  "kernelspec": {
   "display_name": "Python 3 (ipykernel)",
   "language": "python",
   "name": "python3"
  },
  "language_info": {
   "codemirror_mode": {
    "name": "ipython",
    "version": 3
   },
   "file_extension": ".py",
   "mimetype": "text/x-python",
   "name": "python",
   "nbconvert_exporter": "python",
   "pygments_lexer": "ipython3",
   "version": "3.10.10"
  },
  "toc": {
   "base_numbering": 1,
   "nav_menu": {},
   "number_sections": true,
   "sideBar": true,
   "skip_h1_title": false,
   "title_cell": "Table of Contents",
   "title_sidebar": "Contents",
   "toc_cell": false,
   "toc_position": {},
   "toc_section_display": true,
   "toc_window_display": false
  }
 },
 "nbformat": 4,
 "nbformat_minor": 4
}
