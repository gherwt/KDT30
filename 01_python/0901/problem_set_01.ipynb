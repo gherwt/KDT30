{
 "cells": [
  {
   "cell_type": "markdown",
   "metadata": {},
   "source": [
    "## 모음 제거하기\n",
    "\n",
    "> 다음 문장의 모음을 제거한 새로운 문자열을 출력하세요.\n",
    "\n",
    "---\n",
    "\n",
    "\n",
    "**[입력 예시]**\n",
    "\n",
    "`'Life is too short, you need python'`\n",
    "\n",
    "**[출력 예시]**\n",
    "\n",
    "`Lf s t shrt, y nd pythn`"
   ]
  },
  {
   "cell_type": "code",
   "execution_count": 5,
   "metadata": {},
   "outputs": [
    {
     "name": "stdout",
     "output_type": "stream",
     "text": [
      "Lf s t shrt, y nd pythn\n"
     ]
    }
   ],
   "source": [
    "my_str = 'Life is too short, you need python'\n",
    "result = my_str\n",
    "_ = ['a','e','i','o','u']\n",
    "# 아래에 코드를 작성하세요.\n",
    "\n",
    "\n",
    "for char in my_str:\n",
    "    if char in _:\n",
    "        result = result.replace(char,'')\n",
    "\n",
    "print(result)"
   ]
  },
  {
   "cell_type": "code",
   "execution_count": 11,
   "metadata": {},
   "outputs": [
    {
     "name": "stdout",
     "output_type": "stream",
     "text": [
      "Lf s t shrt, y nd pythn\n"
     ]
    }
   ],
   "source": [
    "my_str = 'Life is too short, you need python'\n",
    "result = ''\n",
    "\n",
    "for char in my_str:\n",
    "    if char not in 'aeiou':\n",
    "        result += char\n",
    "\n",
    "print(result)"
   ]
  },
  {
   "cell_type": "markdown",
   "metadata": {},
   "source": [
    "## 과일 개수 골라내기\n",
    "\n",
    "> 내 장바구니에 과일이 몇 개인지, 과일이 아닌 것은 몇개인지 출력하세요.\n",
    ">\n",
    "> 장바구니에 담긴 과일과, 과일 판별 리스트는 다음과 같습니다.\n",
    "> ```python\n",
    "> basket_items = {'apples': 4, 'oranges': 19, 'kites': 3, 'sandwiches': 8}\n",
    "> fruits = ['apples', 'oranges', 'pears', 'peaches', 'grapes', 'bananas']\n",
    "> ```\n",
    "\n",
    "---\n",
    "\n",
    "**[출력 예시]**\n",
    "\n",
    "과일은 23개이고, 11개는 과일이 아닙니다."
   ]
  },
  {
   "cell_type": "code",
   "execution_count": null,
   "metadata": {},
   "outputs": [],
   "source": [
    "# basket_items = {'apples': 4, 'oranges': 19, 'kites': 3, 'sandwiches': 8}\n",
    "# fruits = ['apples', 'oranges', 'pears', 'peaches', 'grapes', 'bananas']\n",
    "\n",
    "# basket_items['apples']\n",
    "# 아래에 코드를 작성하세요.\n",
    "\n",
    "# 먼저 fruits 와 basket item을 비교하고 fruit에 해당하는 것을 고른 후 value 만 뽑아내서 더하기.\n",
    "# dict 를 활용하자... 이거 안 배운거 너무 티났다\n",
    " \n",
    "basket_items = {'apples': 4, 'oranges': 19, 'kites': 3, 'sandwiches': 8}\n",
    "fruits = ['apples', 'oranges', 'pears', 'peaches', 'grapes', 'bananas']"
   ]
  },
  {
   "cell_type": "code",
   "execution_count": 173,
   "metadata": {},
   "outputs": [
    {
     "name": "stdout",
     "output_type": "stream",
     "text": [
      "과일은 23 개이고, 11 개는 과일이 아닙니다.\n"
     ]
    }
   ],
   "source": [
    "basket_items = {'apples': 4, 'oranges': 19, 'kites': 3, 'sandwiches': 8}\n",
    "fruits = ['apples', 'oranges', 'pears', 'peaches', 'grapes', 'bananas']\n",
    "fruit = 0\n",
    "no_fruit = 0 \n",
    "\n",
    "for items, count in basket_items.items():\n",
    "    if items in fruits:\n",
    "        fruit += count\n",
    "    else :\n",
    "        no_fruit += count\n",
    "\n",
    "print('과일은',fruit,'개이고,',no_fruit,'개는 과일이 아닙니다.')\n"
   ]
  },
  {
   "cell_type": "code",
   "execution_count": 17,
   "metadata": {},
   "outputs": [
    {
     "name": "stdout",
     "output_type": "stream",
     "text": [
      "과일은 23 개이고, 11 개는 과일이 아닙니다.\n"
     ]
    }
   ],
   "source": [
    "# dict 순회 버전\n",
    "# 코드의 수정을 가능하다.\n",
    "basket_items = {'apples': 4, 'oranges': 19, 'kites': 3, 'sandwiches': 8}\n",
    "\n",
    "fruits = ['apples', 'oranges', 'pears', 'peaches', 'grapes', 'bananas']\n",
    "\n",
    "fruit_count = non_fruit_count = 0\n",
    "\n",
    "for key in basket_items:\n",
    "    if key in fruits:\n",
    "        fruit_count += basket_items[key]\n",
    "    else:\n",
    "        non_fruit_count += basket_items[key]\n",
    "        \n",
    "print('과일은',fruit_count,'개이고,',non_fruit_count,'개는 과일이 아닙니다.')"
   ]
  },
  {
   "cell_type": "markdown",
   "metadata": {},
   "source": [
    "## 영어 이름 출력하기 \n",
    "\n",
    "> 영어 이름은 가운데 이름을 가지고 있는 경우가 있습니다.\n",
    ">\n",
    "> 가운데 이름은 대문자로 축약해서 나타내는 코드를 작성하세요.\n",
    "\n",
    "---\n",
    "**[입력 예시]**\n",
    "\n",
    "Alice Betty Catherine Davis\n",
    "\n",
    "**[출력 예시]**\n",
    "\n",
    "Alice B. C. Davis"
   ]
  },
  {
   "cell_type": "code",
   "execution_count": 109,
   "metadata": {},
   "outputs": [
    {
     "name": "stdout",
     "output_type": "stream",
     "text": [
      "['Alice', 'Betty', 'Catherine', 'Davis', 'Echo']\n"
     ]
    }
   ],
   "source": [
    "name = 'Alice Betty Catherine Davis Echo'\n",
    "names = name.split()\n",
    "print(names)"
   ]
  },
  {
   "cell_type": "code",
   "execution_count": 110,
   "metadata": {},
   "outputs": [
    {
     "name": "stdout",
     "output_type": "stream",
     "text": [
      "['Alice', 'Betty', 'Catherine', 'Davis', 'Echo']\n"
     ]
    }
   ],
   "source": [
    "# 아래에 코드를 작성하세요.\n",
    "name = 'Alice Betty Catherine Davis Echo'\n",
    "names = name.split()\n",
    "print(names)"
   ]
  },
  {
   "cell_type": "code",
   "execution_count": 118,
   "metadata": {},
   "outputs": [
    {
     "data": {
      "text/plain": [
       "'Alice. B. C. D. Echo'"
      ]
     },
     "execution_count": 118,
     "metadata": {},
     "output_type": "execute_result"
    }
   ],
   "source": [
    "if len(names) % 2 == 0:\n",
    "    middle_names = names[len(names)//2 - 1 : len(names)//2 + 1]\n",
    "    middle_names[0][0][0], middle_names[1][0][0],middle_names[2][0][0]\n",
    "    middle_names = middle_names[0][0][0], middle_names[1][0][0],middle_names[2][0][0]\n",
    "    names[len(names)//2 - 1 : len(names)//2 + 2] = middle_names\n",
    "else:\n",
    "    middle_names = names[len(names)//2 - 1 : len(names)//2 + 2]\n",
    "    middle_names[0][0][0], middle_names[1][0][0],middle_names[2][0][0]\n",
    "    middle_names = middle_names[0][0][0], middle_names[1][0][0],middle_names[2][0][0]\n",
    "    names[len(names)//2 - 1 : len(names)//2 + 2] = middle_names\n",
    "\n",
    "'. '.join(names)"
   ]
  },
  {
   "cell_type": "code",
   "execution_count": 102,
   "metadata": {},
   "outputs": [],
   "source": [
    "# 가운데 맨 앞, 맨 뒤를 빼고 가운데만 한 글자를 줄이기"
   ]
  },
  {
   "cell_type": "code",
   "execution_count": 20,
   "metadata": {},
   "outputs": [
    {
     "name": "stdout",
     "output_type": "stream",
     "text": [
      "['Alice', 'Betty', 'Catherine', 'Davis', 'Echo']\n"
     ]
    }
   ],
   "source": [
    "name = 'Alice Betty Catherine Davis Echo'\n",
    "names = name.split()\n",
    "print(names)"
   ]
  },
  {
   "cell_type": "code",
   "execution_count": 25,
   "metadata": {},
   "outputs": [
    {
     "data": {
      "text/plain": [
       "'Alice B. C. D. Echo'"
      ]
     },
     "execution_count": 25,
     "metadata": {},
     "output_type": "execute_result"
    }
   ],
   "source": [
    "new_name = ''\n",
    "new_name += names[0] + ' '\n",
    "\n",
    "for name in names[1:-1]:\n",
    "    new_name += name[0] + '. '\n",
    "    \n",
    "new_name += names[-1]\n",
    "\n",
    "new_name"
   ]
  },
  {
   "cell_type": "code",
   "execution_count": 36,
   "metadata": {},
   "outputs": [
    {
     "name": "stdout",
     "output_type": "stream",
     "text": [
      "['Alice', 'Betty', 'Catherine', 'Davis', 'Echo']\n"
     ]
    }
   ],
   "source": [
    "name = 'Alice Betty Catherine Davis Echo'\n",
    "names = name.split()\n",
    "print(names)"
   ]
  },
  {
   "cell_type": "code",
   "execution_count": 39,
   "metadata": {},
   "outputs": [
    {
     "data": {
      "text/plain": [
       "'Alice B. C. D. Echo'"
      ]
     },
     "execution_count": 39,
     "metadata": {},
     "output_type": "execute_result"
    }
   ],
   "source": [
    "for idx, name in enumerate(names):\n",
    "    # idx가 처음과 마지막이 아니라면\n",
    "    if idx != 0 and idx != len(names) - 1:\n",
    "        names[idx] = name[0] + '.'\n",
    "    # 리스트가 출력이 됨.\n",
    "' '.join(names)"
   ]
  }
 ],
 "metadata": {
  "kernelspec": {
   "display_name": "Python 3 (ipykernel)",
   "language": "python",
   "name": "python3"
  },
  "language_info": {
   "codemirror_mode": {
    "name": "ipython",
    "version": 3
   },
   "file_extension": ".py",
   "mimetype": "text/x-python",
   "name": "python",
   "nbconvert_exporter": "python",
   "pygments_lexer": "ipython3",
   "version": "3.10.10"
  },
  "toc": {
   "base_numbering": 1,
   "nav_menu": {},
   "number_sections": true,
   "sideBar": true,
   "skip_h1_title": false,
   "title_cell": "Table of Contents",
   "title_sidebar": "Contents",
   "toc_cell": false,
   "toc_position": {},
   "toc_section_display": true,
   "toc_window_display": false
  }
 },
 "nbformat": 4,
 "nbformat_minor": 4
}
