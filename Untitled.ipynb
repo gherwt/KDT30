{
 "cells": [
  {
   "cell_type": "code",
   "execution_count": null,
   "id": "37b0da1b-9654-4f49-974a-f1f919ac1bb2",
   "metadata": {},
   "outputs": [],
   "source": [
    "def fibo(request):\n",
    "    nums = random.sample(range(1, 46), 6)\n",
    "    for num in nums:\n",
    "        \n",
    "        while num = 1 "
   ]
  },
  {
   "cell_type": "code",
   "execution_count": null,
   "id": "7862380f-c399-491d-85ad-351fb7915960",
   "metadata": {},
   "outputs": [],
   "source": [
    "def fib_loop(n):\n",
    "    if n < 2:\n",
    "        return n\n",
    "\n",
    "    a, b = 0, 1\n",
    "    for _ in range(n-1):\n",
    "        a, b = b, a+b\n",
    "    \n",
    "    return print(b)"
   ]
  },
  {
   "cell_type": "code",
   "execution_count": 31,
   "id": "3a2043da-9e10-4144-9a5d-1d9055f90840",
   "metadata": {},
   "outputs": [],
   "source": [
    "from datetime import datetime\n",
    "\n",
    "def is_xmas(today_date):\n",
    "    today_date = datetime.now()\n",
    "    \n",
    "    if today_date.month == 12 and today_date.day == 25:\n",
    "        message = '크리스마스!!!'\n",
    "    else:\n",
    "        message = '크리스마스가 아닙니다.'\n",
    "\n",
    "    return message"
   ]
  },
  {
   "cell_type": "code",
   "execution_count": 34,
   "id": "1942b4ab-459a-43e1-81d9-aee615bcb5a3",
   "metadata": {},
   "outputs": [
    {
     "data": {
      "text/plain": [
       "'크리스마스가 아닙니다.'"
      ]
     },
     "execution_count": 34,
     "metadata": {},
     "output_type": "execute_result"
    }
   ],
   "source": [
    "is_xmas(datetime.now())"
   ]
  }
 ],
 "metadata": {
  "kernelspec": {
   "display_name": "Python 3 (ipykernel)",
   "language": "python",
   "name": "python3"
  },
  "language_info": {
   "codemirror_mode": {
    "name": "ipython",
    "version": 3
   },
   "file_extension": ".py",
   "mimetype": "text/x-python",
   "name": "python",
   "nbconvert_exporter": "python",
   "pygments_lexer": "ipython3",
   "version": "3.10.10"
  }
 },
 "nbformat": 4,
 "nbformat_minor": 5
}
